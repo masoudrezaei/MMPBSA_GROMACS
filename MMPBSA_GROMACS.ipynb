{
  "nbformat": 4,
  "nbformat_minor": 0,
  "metadata": {
    "colab": {
      "provenance": []
    },
    "kernelspec": {
      "name": "python3",
      "display_name": "Python 3"
    },
    "language_info": {
      "name": "python"
    }
  },
  "cells": [
    {
      "cell_type": "code",
      "execution_count": 1,
      "metadata": {
        "id": "C9ceSwrnXTfa",
        "colab": {
          "base_uri": "https://localhost:8080/"
        },
        "outputId": "78d01567-e4e2-4361-f5d4-d6707e2baffb"
      },
      "outputs": [
        {
          "output_type": "stream",
          "name": "stdout",
          "text": [
            "Mounted at /content/drive\n"
          ]
        }
      ],
      "source": [
        "#@title Connect Google Drive to Load Files And Save the Results { display-mode: \"form\" }\n",
        "from google.colab import drive\n",
        "\n",
        "drive.mount('/content/drive', force_remount=True)"
      ]
    },
    {
      "cell_type": "code",
      "source": [
        "#@title Go to The Directory\n",
        "%cd /content/drive/MyDrive/PLC"
      ],
      "metadata": {
        "id": "zvWmiwpCXZ05",
        "colab": {
          "base_uri": "https://localhost:8080/"
        },
        "outputId": "8e484dbe-5b53-4cc9-af40-c65a6080cab1"
      },
      "execution_count": 2,
      "outputs": [
        {
          "output_type": "stream",
          "name": "stdout",
          "text": [
            "/content/drive/MyDrive/PLC\n"
          ]
        }
      ]
    },
    {
      "cell_type": "code",
      "execution_count": null,
      "metadata": {
        "id": "u3EcdG8f0Vkg"
      },
      "outputs": [],
      "source": [
        "#@title if you have not already installed GROMACS on your drive run the commented codes.\n",
        "# !wget ftp://ftp.gromacs.org/gromacs/gromacs-2021.tar.gz\n",
        "# !tar xfz gromacs-2021.tar.gz"
      ]
    },
    {
      "cell_type": "code",
      "execution_count": null,
      "metadata": {
        "id": "SLhbKBqB1Izn"
      },
      "outputs": [],
      "source": [
        "# %%bash\n",
        "# cd /content/gromacs-2021\n",
        "# mkdir /content/gromacs-2021/build\n",
        "# cd /content/gromacs-2021/build\n",
        "# cmake .. -DGMX_BUILD_OWN_FFTW=ON -DREGRESSIONTEST_DOWNLOAD=ON -DGMX_GPU=CUDA -DCMAKE_INSTALL_PREFIX=/content/drive/MyDrive/MD/GROMACS\n",
        "# make\n",
        "# make check\n",
        "# sudo make install\n",
        "# source /content/drive/MyDrive/MD/GROMACS/bin/GMXRC"
      ]
    },
    {
      "cell_type": "code",
      "source": [
        "#@title give the permission to GROMACS\n",
        "!chmod +x /content/drive/MyDrive/MD/GROMACS/bin/gmx"
      ],
      "metadata": {
        "id": "FT3wvi2GsY2F"
      },
      "execution_count": 3,
      "outputs": []
    },
    {
      "cell_type": "code",
      "source": [
        "#@title **Install Conda Colab**\n",
        "#@markdown It will restart the kernel (session), don't worry.\n",
        "!pip install -q condacolab\n",
        "import condacolab\n",
        "condacolab.install()"
      ],
      "metadata": {
        "id": "mVu9FWMiqSmj"
      },
      "execution_count": null,
      "outputs": []
    },
    {
      "cell_type": "code",
      "source": [
        "#@title install dependencies\n",
        "!mamba install -c conda-forge mpi4py=3.1.3 ambertools compilers=1.2.0 -y -q\n",
        "!mpiexec --mca opal_cuda_support 1\n",
        "!pip install gmx_MMPBSA\n",
        "!pip install pyqt5 "
      ],
      "metadata": {
        "id": "Y0whTW5lrIM9"
      },
      "execution_count": null,
      "outputs": []
    },
    {
      "cell_type": "markdown",
      "source": [
        "if  you run the following command using colab you will get an error about the MPI setting that you can ignore it. "
      ],
      "metadata": {
        "id": "_dsEOpdCwZZf"
      }
    },
    {
      "cell_type": "code",
      "source": [
        "!gmx_MMPBSA_test"
      ],
      "metadata": {
        "id": "pIy-jMayDRp7"
      },
      "execution_count": null,
      "outputs": []
    },
    {
      "cell_type": "code",
      "source": [
        "#@title Calculate the MMPBSA (ignore errors related to pyqt5)\n",
        "%%bash\n",
        "source /content/drive/MyDrive/MD/GROMACS/bin/GMXRC\n",
        "gmx_MMPBSA -O -i mmpbsa.in -cs md01.tpr -ci index.ndx -cg 1 13 -ct PLC2_fit.xtc -cp topol.top"
      ],
      "metadata": {
        "id": "5DBBxBjcDwcc",
        "colab": {
          "base_uri": "https://localhost:8080/",
          "height": 1000
        },
        "outputId": "48f8b55e-3d6a-4faa-91f0-847a6f75d819"
      },
      "execution_count": 5,
      "outputs": [
        {
          "output_type": "stream",
          "name": "stdout",
          "text": [
            "tets\n",
            "\n"
          ]
        },
        {
          "output_type": "stream",
          "name": "stderr",
          "text": [
            "[INFO   ] Starting gmx_MMPBSA v1.6.1\n",
            "[INFO   ] Command-line\n",
            "  gmx_MMPBSA -O -i mmpbsa.in -cs md01.tpr -ci index.ndx -cg 1 13 -ct PLC2_fit.xtc -cp topol.top\n",
            "\n",
            "[INFO   ] Checking mmpbsa.in input file...\n",
            "[INFO   ] Checking mmpbsa.in input file...Done.\n",
            "\n",
            "[INFO   ] Checking external programs...\n",
            "[INFO   ] cpptraj found! Using /usr/local/bin/cpptraj\n",
            "[INFO   ] tleap found! Using /usr/local/bin/tleap\n",
            "[INFO   ] parmchk2 found! Using /usr/local/bin/parmchk2\n",
            "[INFO   ] sander found! Using /usr/local/bin/sander\n",
            "[INFO   ] Using GROMACS version > 5.x.x!\n",
            "[INFO   ] gmx found! Using /content/drive/MyDrive/MD/GROMACS/bin/gmx\n",
            "[INFO   ] Checking external programs...Done.\n",
            "\n",
            "[INFO   ] Building AMBER topologies from GROMACS files...\n",
            "[INFO   ] Get PDB files from GROMACS structures files...\n",
            "[INFO   ] Making gmx_MMPBSA index for complex...\n",
            "[INFO   ] Normal Complex: Saving group Protein_LIG (1_13) in _GMXMMPBSA_COM_index.ndx file as _GMXMMPBSA_COM.pdb\n",
            "[INFO   ] No receptor structure file was defined. Using ST approach...\n",
            "[INFO   ] Using receptor structure from complex to generate AMBER topology\n",
            "[INFO   ] Normal Receptor: Saving group Protein (1) in _GMXMMPBSA_COM_index.ndx file as _GMXMMPBSA_REC.pdb\n",
            "[INFO   ] No ligand structure file was defined. Using ST approach...\n",
            "[INFO   ] Using ligand structure from complex to generate AMBER topology\n",
            "[INFO   ] Normal Ligand: Saving group LIG (13) in _GMXMMPBSA_COM_index.ndx file as _GMXMMPBSA_LIG.pdb\n",
            "[INFO   ] Checking the structures consistency...\n",
            "[INFO   ] \n",
            "[INFO   ] Using topology conversion. Setting radiopt = 0...\n",
            "[INFO   ] Building Normal Complex Amber topology...\n",
            "[INFO   ] Detected CHARMM force field topology format...\n",
            "[INFO   ] Assigning PBRadii mbondi2 to Complex...\n",
            "[INFO   ] Writing Normal Complex AMBER topology...\n",
            "[INFO   ] No Receptor topology file was defined. Using ST approach...\n",
            "[INFO   ] Building AMBER Receptor topology from Complex...\n",
            "[INFO   ] Assigning PBRadii mbondi2 to Receptor...\n",
            "[INFO   ] Writing Normal Receptor AMBER topology...\n",
            "[INFO   ] No Ligand topology file was defined. Using ST approach...\n",
            "[INFO   ] Building AMBER Ligand topology from Complex...\n",
            "[INFO   ] Assigning PBRadii mbondi2 to Ligand...\n",
            "[INFO   ] Writing Normal Ligand AMBER topology...\n",
            "[INFO   ] Cleaning normal complex trajectories...\n",
            "[INFO   ] Building AMBER topologies from GROMACS files... Done.\n",
            "\n",
            "[INFO   ] Loading and checking parameter files for compatibility...\n",
            "[INFO   ] Preparing trajectories for simulation...\n",
            "\n",
            "[INFO   ] 10 frames were processed by cpptraj for use in calculation.\n",
            "[INFO   ] Starting calculations in 1 CPUs...\n",
            "[INFO   ] Running calculations on normal system...\n",
            "[INFO   ] Beginning GB calculations with /usr/local/bin/sander\n",
            "[INFO   ]   calculating complex contribution...\n",
            "\r              0%|          | 0/10 [elapsed: 00:00 remaining: ?]\r             10%|#         | 1/10 [elapsed: 00:15 remaining: 02:15]\r             20%|##        | 2/10 [elapsed: 00:33 remaining: 02:14]\r             30%|###       | 3/10 [elapsed: 00:40 remaining: 01:26]\r             40%|####      | 4/10 [elapsed: 01:04 remaining: 01:41]\r             50%|#####     | 5/10 [elapsed: 01:13 remaining: 01:10]\r             60%|######    | 6/10 [elapsed: 01:32 remaining: 01:03]\r             70%|#######   | 7/10 [elapsed: 01:42 remaining: 00:41]\r             80%|########  | 8/10 [elapsed: 01:52 remaining: 00:25]\r             90%|######### | 9/10 [elapsed: 02:02 remaining: 00:11]\r            100%|##########| 10/10 [elapsed: 02:23 remaining: 00:00]\r                                                                    \r\r            100%|##########| 10/10 [elapsed: 02:23 remaining: 00:00]\n",
            "[INFO   ]   calculating receptor contribution...\n",
            "\r              0%|          | 0/10 [elapsed: 00:00 remaining: ?]\r             10%|#         | 1/10 [elapsed: 00:15 remaining: 02:15]\r             20%|##        | 2/10 [elapsed: 00:33 remaining: 02:14]\r             30%|###       | 3/10 [elapsed: 00:48 remaining: 01:51]\r             40%|####      | 4/10 [elapsed: 00:56 remaining: 01:17]\r             50%|#####     | 5/10 [elapsed: 01:13 remaining: 01:11]\r             60%|######    | 6/10 [elapsed: 01:22 remaining: 00:50]\r             70%|#######   | 7/10 [elapsed: 01:41 remaining: 00:43]\r             80%|########  | 8/10 [elapsed: 01:51 remaining: 00:26]\r             90%|######### | 9/10 [elapsed: 02:12 remaining: 00:15]\r            100%|##########| 10/10 [elapsed: 02:23 remaining: 00:00]\r                                                                    \r\r            100%|##########| 10/10 [elapsed: 02:23 remaining: 00:00]\n",
            "[INFO   ]   calculating ligand contribution...\n",
            "\r              0%|          | 0/10 [elapsed: 00:00 remaining: ?]\r            100%|##########| 10/10 [elapsed: 00:01 remaining: 00:00]\r                                                                    \r\r            100%|##########| 10/10 [elapsed: 00:01 remaining: 00:00]\n",
            "[INFO   ] Parsing results to output files...\n",
            "\n",
            "[INFO   ] Timing:\n",
            "[INFO   ] Total GROMACS setup time:                   2.086 min.\n",
            "[INFO   ] Total AMBER setup time:                     0.068 min.\n",
            "[INFO   ] Creating trajectories with cpptraj:         0.032 min.\n",
            "[INFO   ] Total calculation time:                     4.916 min.\n",
            "[INFO   ] Total GB calculation time:                  4.659 min.\n",
            "[INFO   ] Statistics calculation & output writing:    0.001 min.\n",
            "[INFO   ] Total time taken:                           7.307 min.\n",
            "\n",
            "[INFO   ] \n",
            "   Finalizing gmx_MMPBSA: [ERROR  ] = 0; [WARNING] = 0\n",
            "   Check the gmx_MMPBSA.log file for more details...\n",
            "\n",
            "[INFO   ] \n",
            " Thank you for using gmx_MMPBSA. Please consider supporting gmx_MMPBSA by citing our publication:\n",
            "    Valdés-Tresanco, M.S., Valdés-Tresanco, M.E., Valiente, P.A. and Moreno E. \n",
            "    gmx_MMPBSA: A New Tool to Perform End-State Free Energy Calculations with GROMACS. \n",
            "    J Chem Theory Comput., 2021, 17 (10):6281-6291. Epub 2021 Sep 29. PMID: 34586825.\n",
            "    https://pubs.acs.org/doi/10.1021/acs.jctc.1c00645\n",
            "\n",
            "Also consider citing MMPBSA.py:\n",
            "    Miller III, B. R., McGee Jr., T. D., Swails, J. M. Homeyer, N. Gohlke, H. and Roitberg, A. E.\n",
            "    MMPBSA.py: An Efficient Program for End-State Free Energy Calculations.\n",
            "    J. Chem. Theory Comput., 2012, 8 (9) pp 3314-3321\n",
            "\n",
            "[INFO   ] Opening gmx_MMPBSA_ana to analyze results...\n",
            "\n",
            "ERROR:root:MMPBSA_Error \n",
            "\n",
            "Could not import PyQt5/PyQt6. gmx_MMPBSA_ana will be disabled until PyQt5/PyQt6 is installed\n",
            "\n",
            "Check the gmx_MMPBSA.log file to report the problem.\n",
            "Traceback (most recent call last):\n",
            "  File \"/usr/local/bin/gmx_MMPBSA_ana\", line 8, in <module>\n",
            "    sys.exit(gmxmmpbsa_ana())\n",
            "  File \"/usr/local/lib/python3.10/site-packages/GMXMMPBSA/app.py\", line 126, in gmxmmpbsa_ana\n",
            "    GMXMMPBSA_ERROR('Could not import PyQt5/PyQt6. gmx_MMPBSA_ana will be disabled until PyQt5/PyQt6 is '\n",
            "  File \"/usr/local/lib/python3.10/site-packages/GMXMMPBSA/exceptions.py\", line 171, in __init__\n",
            "    raise exc('\\n\\n' + msg + '\\n\\nCheck the gmx_MMPBSA.log file to report the problem.')\n",
            "GMXMMPBSA.exceptions.MMPBSA_Error: \n",
            "\n",
            "Could not import PyQt5/PyQt6. gmx_MMPBSA_ana will be disabled until PyQt5/PyQt6 is installed\n",
            "\n",
            "Check the gmx_MMPBSA.log file to report the problem.\n",
            "[ERROR  ] Unable to start gmx_MMPBSA_ana...\n",
            "[INFO   ] Finalized...\n"
          ]
        },
        {
          "output_type": "error",
          "ename": "CalledProcessError",
          "evalue": "ignored",
          "traceback": [
            "\u001b[0;31m---------------------------------------------------------------------------\u001b[0m",
            "\u001b[0;31mCalledProcessError\u001b[0m                        Traceback (most recent call last)",
            "\u001b[0;32m<ipython-input-5-7e4937efca55>\u001b[0m in \u001b[0;36m<cell line: 1>\u001b[0;34m()\u001b[0m\n\u001b[0;32m----> 1\u001b[0;31m \u001b[0mget_ipython\u001b[0m\u001b[0;34m(\u001b[0m\u001b[0;34m)\u001b[0m\u001b[0;34m.\u001b[0m\u001b[0mrun_cell_magic\u001b[0m\u001b[0;34m(\u001b[0m\u001b[0;34m'bash'\u001b[0m\u001b[0;34m,\u001b[0m \u001b[0;34m''\u001b[0m\u001b[0;34m,\u001b[0m \u001b[0;34m'source /content/drive/MyDrive/MD/GROMACS/bin/GMXRC\\ngmx_MMPBSA -O -i mmpbsa.in -cs md01.tpr -ci index.ndx -cg 1 13 -ct PLC2_fit.xtc -cp topol.top\\n'\u001b[0m\u001b[0;34m)\u001b[0m\u001b[0;34m\u001b[0m\u001b[0;34m\u001b[0m\u001b[0m\n\u001b[0m",
            "\u001b[0;32m/usr/local/lib/python3.10/dist-packages/google/colab/_shell.py\u001b[0m in \u001b[0;36mrun_cell_magic\u001b[0;34m(self, magic_name, line, cell)\u001b[0m\n\u001b[1;32m    332\u001b[0m     \u001b[0;32mif\u001b[0m \u001b[0mline\u001b[0m \u001b[0;32mand\u001b[0m \u001b[0;32mnot\u001b[0m \u001b[0mcell\u001b[0m\u001b[0;34m:\u001b[0m\u001b[0;34m\u001b[0m\u001b[0;34m\u001b[0m\u001b[0m\n\u001b[1;32m    333\u001b[0m       \u001b[0mcell\u001b[0m \u001b[0;34m=\u001b[0m \u001b[0;34m' '\u001b[0m\u001b[0;34m\u001b[0m\u001b[0;34m\u001b[0m\u001b[0m\n\u001b[0;32m--> 334\u001b[0;31m     \u001b[0;32mreturn\u001b[0m \u001b[0msuper\u001b[0m\u001b[0;34m(\u001b[0m\u001b[0;34m)\u001b[0m\u001b[0;34m.\u001b[0m\u001b[0mrun_cell_magic\u001b[0m\u001b[0;34m(\u001b[0m\u001b[0mmagic_name\u001b[0m\u001b[0;34m,\u001b[0m \u001b[0mline\u001b[0m\u001b[0;34m,\u001b[0m \u001b[0mcell\u001b[0m\u001b[0;34m)\u001b[0m\u001b[0;34m\u001b[0m\u001b[0;34m\u001b[0m\u001b[0m\n\u001b[0m\u001b[1;32m    335\u001b[0m \u001b[0;34m\u001b[0m\u001b[0m\n\u001b[1;32m    336\u001b[0m \u001b[0;34m\u001b[0m\u001b[0m\n",
            "\u001b[0;32m/usr/local/lib/python3.10/dist-packages/IPython/core/interactiveshell.py\u001b[0m in \u001b[0;36mrun_cell_magic\u001b[0;34m(self, magic_name, line, cell)\u001b[0m\n\u001b[1;32m   2471\u001b[0m             \u001b[0;32mwith\u001b[0m \u001b[0mself\u001b[0m\u001b[0;34m.\u001b[0m\u001b[0mbuiltin_trap\u001b[0m\u001b[0;34m:\u001b[0m\u001b[0;34m\u001b[0m\u001b[0;34m\u001b[0m\u001b[0m\n\u001b[1;32m   2472\u001b[0m                 \u001b[0margs\u001b[0m \u001b[0;34m=\u001b[0m \u001b[0;34m(\u001b[0m\u001b[0mmagic_arg_s\u001b[0m\u001b[0;34m,\u001b[0m \u001b[0mcell\u001b[0m\u001b[0;34m)\u001b[0m\u001b[0;34m\u001b[0m\u001b[0;34m\u001b[0m\u001b[0m\n\u001b[0;32m-> 2473\u001b[0;31m                 \u001b[0mresult\u001b[0m \u001b[0;34m=\u001b[0m \u001b[0mfn\u001b[0m\u001b[0;34m(\u001b[0m\u001b[0;34m*\u001b[0m\u001b[0margs\u001b[0m\u001b[0;34m,\u001b[0m \u001b[0;34m**\u001b[0m\u001b[0mkwargs\u001b[0m\u001b[0;34m)\u001b[0m\u001b[0;34m\u001b[0m\u001b[0;34m\u001b[0m\u001b[0m\n\u001b[0m\u001b[1;32m   2474\u001b[0m             \u001b[0;32mreturn\u001b[0m \u001b[0mresult\u001b[0m\u001b[0;34m\u001b[0m\u001b[0;34m\u001b[0m\u001b[0m\n\u001b[1;32m   2475\u001b[0m \u001b[0;34m\u001b[0m\u001b[0m\n",
            "\u001b[0;32m/usr/local/lib/python3.10/dist-packages/IPython/core/magics/script.py\u001b[0m in \u001b[0;36mnamed_script_magic\u001b[0;34m(line, cell)\u001b[0m\n\u001b[1;32m    140\u001b[0m             \u001b[0;32melse\u001b[0m\u001b[0;34m:\u001b[0m\u001b[0;34m\u001b[0m\u001b[0;34m\u001b[0m\u001b[0m\n\u001b[1;32m    141\u001b[0m                 \u001b[0mline\u001b[0m \u001b[0;34m=\u001b[0m \u001b[0mscript\u001b[0m\u001b[0;34m\u001b[0m\u001b[0;34m\u001b[0m\u001b[0m\n\u001b[0;32m--> 142\u001b[0;31m             \u001b[0;32mreturn\u001b[0m \u001b[0mself\u001b[0m\u001b[0;34m.\u001b[0m\u001b[0mshebang\u001b[0m\u001b[0;34m(\u001b[0m\u001b[0mline\u001b[0m\u001b[0;34m,\u001b[0m \u001b[0mcell\u001b[0m\u001b[0;34m)\u001b[0m\u001b[0;34m\u001b[0m\u001b[0;34m\u001b[0m\u001b[0m\n\u001b[0m\u001b[1;32m    143\u001b[0m \u001b[0;34m\u001b[0m\u001b[0m\n\u001b[1;32m    144\u001b[0m         \u001b[0;31m# write a basic docstring:\u001b[0m\u001b[0;34m\u001b[0m\u001b[0;34m\u001b[0m\u001b[0m\n",
            "\u001b[0;32m<decorator-gen-103>\u001b[0m in \u001b[0;36mshebang\u001b[0;34m(self, line, cell)\u001b[0m\n",
            "\u001b[0;32m/usr/local/lib/python3.10/dist-packages/IPython/core/magic.py\u001b[0m in \u001b[0;36m<lambda>\u001b[0;34m(f, *a, **k)\u001b[0m\n\u001b[1;32m    185\u001b[0m     \u001b[0;31m# but it's overkill for just that one bit of state.\u001b[0m\u001b[0;34m\u001b[0m\u001b[0;34m\u001b[0m\u001b[0m\n\u001b[1;32m    186\u001b[0m     \u001b[0;32mdef\u001b[0m \u001b[0mmagic_deco\u001b[0m\u001b[0;34m(\u001b[0m\u001b[0marg\u001b[0m\u001b[0;34m)\u001b[0m\u001b[0;34m:\u001b[0m\u001b[0;34m\u001b[0m\u001b[0;34m\u001b[0m\u001b[0m\n\u001b[0;32m--> 187\u001b[0;31m         \u001b[0mcall\u001b[0m \u001b[0;34m=\u001b[0m \u001b[0;32mlambda\u001b[0m \u001b[0mf\u001b[0m\u001b[0;34m,\u001b[0m \u001b[0;34m*\u001b[0m\u001b[0ma\u001b[0m\u001b[0;34m,\u001b[0m \u001b[0;34m**\u001b[0m\u001b[0mk\u001b[0m\u001b[0;34m:\u001b[0m \u001b[0mf\u001b[0m\u001b[0;34m(\u001b[0m\u001b[0;34m*\u001b[0m\u001b[0ma\u001b[0m\u001b[0;34m,\u001b[0m \u001b[0;34m**\u001b[0m\u001b[0mk\u001b[0m\u001b[0;34m)\u001b[0m\u001b[0;34m\u001b[0m\u001b[0;34m\u001b[0m\u001b[0m\n\u001b[0m\u001b[1;32m    188\u001b[0m \u001b[0;34m\u001b[0m\u001b[0m\n\u001b[1;32m    189\u001b[0m         \u001b[0;32mif\u001b[0m \u001b[0mcallable\u001b[0m\u001b[0;34m(\u001b[0m\u001b[0marg\u001b[0m\u001b[0;34m)\u001b[0m\u001b[0;34m:\u001b[0m\u001b[0;34m\u001b[0m\u001b[0;34m\u001b[0m\u001b[0m\n",
            "\u001b[0;32m/usr/local/lib/python3.10/dist-packages/IPython/core/magics/script.py\u001b[0m in \u001b[0;36mshebang\u001b[0;34m(self, line, cell)\u001b[0m\n\u001b[1;32m    243\u001b[0m             \u001b[0msys\u001b[0m\u001b[0;34m.\u001b[0m\u001b[0mstderr\u001b[0m\u001b[0;34m.\u001b[0m\u001b[0mflush\u001b[0m\u001b[0;34m(\u001b[0m\u001b[0;34m)\u001b[0m\u001b[0;34m\u001b[0m\u001b[0;34m\u001b[0m\u001b[0m\n\u001b[1;32m    244\u001b[0m         \u001b[0;32mif\u001b[0m \u001b[0margs\u001b[0m\u001b[0;34m.\u001b[0m\u001b[0mraise_error\u001b[0m \u001b[0;32mand\u001b[0m \u001b[0mp\u001b[0m\u001b[0;34m.\u001b[0m\u001b[0mreturncode\u001b[0m\u001b[0;34m!=\u001b[0m\u001b[0;36m0\u001b[0m\u001b[0;34m:\u001b[0m\u001b[0;34m\u001b[0m\u001b[0;34m\u001b[0m\u001b[0m\n\u001b[0;32m--> 245\u001b[0;31m             \u001b[0;32mraise\u001b[0m \u001b[0mCalledProcessError\u001b[0m\u001b[0;34m(\u001b[0m\u001b[0mp\u001b[0m\u001b[0;34m.\u001b[0m\u001b[0mreturncode\u001b[0m\u001b[0;34m,\u001b[0m \u001b[0mcell\u001b[0m\u001b[0;34m,\u001b[0m \u001b[0moutput\u001b[0m\u001b[0;34m=\u001b[0m\u001b[0mout\u001b[0m\u001b[0;34m,\u001b[0m \u001b[0mstderr\u001b[0m\u001b[0;34m=\u001b[0m\u001b[0merr\u001b[0m\u001b[0;34m)\u001b[0m\u001b[0;34m\u001b[0m\u001b[0;34m\u001b[0m\u001b[0m\n\u001b[0m\u001b[1;32m    246\u001b[0m \u001b[0;34m\u001b[0m\u001b[0m\n\u001b[1;32m    247\u001b[0m     \u001b[0;32mdef\u001b[0m \u001b[0m_run_script\u001b[0m\u001b[0;34m(\u001b[0m\u001b[0mself\u001b[0m\u001b[0;34m,\u001b[0m \u001b[0mp\u001b[0m\u001b[0;34m,\u001b[0m \u001b[0mcell\u001b[0m\u001b[0;34m,\u001b[0m \u001b[0mto_close\u001b[0m\u001b[0;34m)\u001b[0m\u001b[0;34m:\u001b[0m\u001b[0;34m\u001b[0m\u001b[0;34m\u001b[0m\u001b[0m\n",
            "\u001b[0;31mCalledProcessError\u001b[0m: Command 'b'source /content/drive/MyDrive/MD/GROMACS/bin/GMXRC\\ngmx_MMPBSA -O -i mmpbsa.in -cs md01.tpr -ci index.ndx -cg 1 13 -ct PLC2_fit.xtc -cp topol.top\\n'' returned non-zero exit status 1."
          ]
        }
      ]
    },
    {
      "cell_type": "code",
      "source": [],
      "metadata": {
        "id": "GeTQ_NGSrfEB"
      },
      "execution_count": null,
      "outputs": []
    }
  ]
}